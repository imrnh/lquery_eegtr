{
 "cells": [
  {
   "cell_type": "code",
   "execution_count": 2,
   "id": "bc2d0e61",
   "metadata": {},
   "outputs": [],
   "source": [
    "import torch\n",
    "import torch.nn as nn"
   ]
  },
  {
   "cell_type": "code",
   "execution_count": 10,
   "id": "aa7a5361",
   "metadata": {},
   "outputs": [
    {
     "name": "stdout",
     "output_type": "stream",
     "text": [
      "torch.Size([2, 5, 1, 7])\n"
     ]
    },
    {
     "data": {
      "text/plain": [
       "torch.Size([2, 5, 4, 7])"
      ]
     },
     "execution_count": 10,
     "metadata": {},
     "output_type": "execute_result"
    }
   ],
   "source": [
    "bsz = 2\n",
    "timestamps = 5\n",
    "num_channels = 3\n",
    "embed_dim = 7\n",
    "\n",
    "lq = torch.rand((1, (num_channels//2), embed_dim))\n",
    "\n",
    "x = torch.rand((bsz, timestamps, num_channels, embed_dim))\n",
    "\n",
    "# Expand lq across the timestamps dimension\n",
    "lq_expanded = lq.unsqueeze(1).expand(2, timestamps, -1, -1)  # (bsz, timestamps, num_channels//2 + 1, embed_dim)\n",
    "\n",
    "print(lq_expanded.shape)\n",
    "\n",
    "# Concatenate along the channel dimension (dim=2)\n",
    "x = torch.cat([x, lq_expanded], dim=2)\n",
    "\n",
    "fx = nn.Linear(in_features=embed_dim, out_features=embed_dim + 3)\n",
    "\n",
    "x.shape"
   ]
  },
  {
   "cell_type": "code",
   "execution_count": 54,
   "id": "be3858c4",
   "metadata": {},
   "outputs": [],
   "source": [
    "attn = (x @ x.transpose(2, 3))"
   ]
  },
  {
   "cell_type": "code",
   "execution_count": 56,
   "id": "51572ef9",
   "metadata": {},
   "outputs": [
    {
     "data": {
      "text/plain": [
       "torch.Size([2, 5, 6, 7])"
      ]
     },
     "execution_count": 56,
     "metadata": {},
     "output_type": "execute_result"
    }
   ],
   "source": [
    "(attn @ x).shape"
   ]
  },
  {
   "cell_type": "code",
   "execution_count": 74,
   "id": "f140ab33",
   "metadata": {},
   "outputs": [
    {
     "data": {
      "text/plain": [
       "torch.Size([1, 3, 7])"
      ]
     },
     "execution_count": 74,
     "metadata": {},
     "output_type": "execute_result"
    }
   ],
   "source": [
    "lqx = nn.Parameter(torch.randn(1, num_channels, embed_dim))\n",
    "\n",
    "lqx.shape"
   ]
  },
  {
   "cell_type": "code",
   "execution_count": 75,
   "id": "d0b6ca4a",
   "metadata": {},
   "outputs": [
    {
     "data": {
      "text/plain": [
       "torch.Size([2, 5, 3, 7])"
      ]
     },
     "execution_count": 75,
     "metadata": {},
     "output_type": "execute_result"
    }
   ],
   "source": [
    "lqx = lqx.unsqueeze(1).expand(bsz, timestamps, -1, -1)  # (bsz, timestamps, self.num_learnable_queries, model_embed_dim) \n",
    "\n",
    "lqx.shape"
   ]
  },
  {
   "cell_type": "code",
   "execution_count": 77,
   "id": "2c58f0c7",
   "metadata": {},
   "outputs": [],
   "source": [
    "# Concatenate along the channel dimension (dim=2)\n",
    "x = torch.cat([x, lqx], dim=2)\n",
    "\n",
    "fx = nn.Linear(in_features=embed_dim, out_features=embed_dim + 3)\n"
   ]
  },
  {
   "cell_type": "code",
   "execution_count": null,
   "id": "d940c20a",
   "metadata": {},
   "outputs": [],
   "source": []
  }
 ],
 "metadata": {
  "kernelspec": {
   "display_name": "base",
   "language": "python",
   "name": "python3"
  },
  "language_info": {
   "codemirror_mode": {
    "name": "ipython",
    "version": 3
   },
   "file_extension": ".py",
   "mimetype": "text/x-python",
   "name": "python",
   "nbconvert_exporter": "python",
   "pygments_lexer": "ipython3",
   "version": "3.12.7"
  }
 },
 "nbformat": 4,
 "nbformat_minor": 5
}
